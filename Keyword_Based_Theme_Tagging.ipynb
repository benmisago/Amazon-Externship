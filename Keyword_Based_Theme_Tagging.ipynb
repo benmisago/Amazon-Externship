{
  "nbformat": 4,
  "nbformat_minor": 0,
  "metadata": {
    "colab": {
      "provenance": [],
      "mount_file_id": "1XW33pPr9twgl4fFoVag_3T__zQa7UjjN",
      "authorship_tag": "ABX9TyNz4E0jjrqJT7DLwkD3gbUa",
      "include_colab_link": true
    },
    "kernelspec": {
      "name": "python3",
      "display_name": "Python 3"
    },
    "language_info": {
      "name": "python"
    }
  },
  "cells": [
    {
      "cell_type": "markdown",
      "metadata": {
        "id": "view-in-github",
        "colab_type": "text"
      },
      "source": [
        "<a href=\"https://colab.research.google.com/github/benmisago/Amazon-Externship/blob/main/Keyword_Based_Theme_Tagging.ipynb\" target=\"_parent\"><img src=\"https://colab.research.google.com/assets/colab-badge.svg\" alt=\"Open In Colab\"/></a>"
      ]
    },
    {
      "cell_type": "code",
      "execution_count": null,
      "metadata": {
        "colab": {
          "base_uri": "https://localhost:8080/"
        },
        "id": "2WxINtMWSLk2",
        "outputId": "3800f55f-5064-48fc-9f59-7c7ded246e71"
      },
      "outputs": [
        {
          "output_type": "stream",
          "name": "stdout",
          "text": [
            "Successfully created 'combined_with_themes.csv' with theme analysis!\n"
          ]
        }
      ],
      "source": [
        "import pandas as pd\n",
        "\n",
        "# Load your dataset\n",
        "# Make sure the file path is correct\n",
        "df = pd.read_csv('/content/drive/MyDrive/Amazon Externship/combined_sentiment_data.csv')\n",
        "\n",
        "# Define the columns you want to combine for a full analysis\n",
        "text_columns = [\n",
        "    'summary_cleaned',\n",
        "    'advice_to_management_cleaned',\n",
        "    'review_pros_cleaned',\n",
        "    'review_cons_cleaned',\n",
        "    'transcript_cleaned'\n",
        "]\n",
        "\n",
        "# **FIX: Create the 'cleaned_text' column by joining the others.**\n",
        "# .fillna('') handles any empty cells to avoid errors.\n",
        "df['cleaned_text'] = df[text_columns].fillna('').agg(' '.join, axis=1)\n",
        "\n",
        "theme_keywords = {\n",
        "    'Compensation & Benefits': ['pay', 'salary', 'benefits', 'bonus', '401k', 'insurance', 'wage', 'paid'],\n",
        "    'Work-Life Balance': ['hours', 'schedule', 'shift', 'break', 'weekend', 'life', 'balance', 'overtime', 'flex'],\n",
        "    'Physical Demands': ['physical', 'demanding', 'tired', 'heavy', 'lifting', 'standing', 'repetitive', 'draining', 'body'],\n",
        "    'Management & Leadership': ['manager', 'leadership', 'management', 'support', 'communication', 'biased', 'care', 'hr'],\n",
        "    'Workplace Culture': ['culture', 'environment', 'toxic', 'favoritism', 'politics', 'team', 'people', 'drama'],\n",
        "    'Career Growth': ['promotion', 'opportunities', 'growth', 'advancement', 'learn', 'develop', 'skills'],\n",
        "    'Training': ['training', 'onboard', 'learn', 'skills']\n",
        "}\n",
        "\n",
        "# Your function to tag themes (this is correct)\n",
        "def tag_themes(text, theme_keywords):\n",
        "    matched_themes = []\n",
        "    for theme, keywords in theme_keywords.items():\n",
        "        if any(keyword in str(text).lower() for keyword in keywords):\n",
        "            matched_themes.append(theme)\n",
        "    return ', '.join(matched_themes) if matched_themes else ''\n",
        "\n",
        "# Now, this line will work because the 'cleaned_text' column exists!\n",
        "df['Theme'] = df['cleaned_text'].apply(lambda x: tag_themes(x, theme_keywords))\n",
        "\n",
        "# Save the final result to a new CSV\n",
        "df.to_csv('combined_with_themes.csv', index=False)\n",
        "\n",
        "print(\"Successfully created 'combined_with_themes.csv' with theme analysis!\")"
      ]
    }
  ]
}